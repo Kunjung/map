{
 "cells": [
  {
   "cell_type": "markdown",
   "id": "through-budget",
   "metadata": {},
   "source": [
    "# 3 variable kmap"
   ]
  },
  {
   "cell_type": "code",
   "execution_count": 21,
   "id": "periodic-touch",
   "metadata": {},
   "outputs": [
    {
     "name": "stdout",
     "output_type": "stream",
     "text": [
      "A|BC\n",
      "  0\t0\t0\t0\t\n",
      "  0\t0\t0\t0\t\n",
      "A|BC\n",
      "  0\t1\t1\t0\t\n",
      "  0\t1\t1\t0\t\n"
     ]
    }
   ],
   "source": [
    "function = [1,3,5,7]\n",
    "# a b c\n",
    "# 3 variable kmap\n",
    "def create_3_variable_kmap():\n",
    "    kmap = [\n",
    "        [0, 0, 0, 0],\n",
    "        [0, 0, 0, 0]\n",
    "    ]\n",
    "    return kmap\n",
    "kmap = create_3_variable_kmap()\n",
    "three_variable_function_to_position_mapping = {\n",
    "    0: [0, 0],\n",
    "    1: [0, 1],\n",
    "    3: [0, 2],\n",
    "    2: [0, 3],\n",
    "    \n",
    "    4: [1, 0],\n",
    "    5: [1, 1],\n",
    "    7: [1, 2],\n",
    "    6: [1, 3],\n",
    "}\n",
    "def print_kmap(kmap):\n",
    "    print(\"A|BC\")\n",
    "    for row in kmap:\n",
    "        print('  ', end='')\n",
    "        for col in row:\n",
    "            print(col, end='\\t')\n",
    "        print()\n",
    "print_kmap(kmap)\n",
    "\n",
    "for f in function:\n",
    "    position = three_variable_function_to_position_mapping[f]\n",
    "    # print(position)\n",
    "    x, y = position\n",
    "    kmap[x][y] = 1\n",
    "print_kmap(kmap)"
   ]
  },
  {
   "cell_type": "code",
   "execution_count": 22,
   "id": "looking-albany",
   "metadata": {},
   "outputs": [
    {
     "name": "stdout",
     "output_type": "stream",
     "text": [
      "A|BC\n",
      "  0\t1\t3\t2\t\n",
      "  4\t5\t7\t6\t\n"
     ]
    }
   ],
   "source": [
    "new_kmap = create_3_variable_kmap()\n",
    "for val in range(8):\n",
    "    position = three_variable_function_to_position_mapping[val]\n",
    "    x, y = position\n",
    "    new_kmap[x][y] = val\n",
    "print_kmap(new_kmap)"
   ]
  },
  {
   "cell_type": "code",
   "execution_count": null,
   "id": "pacific-blend",
   "metadata": {},
   "outputs": [],
   "source": []
  },
  {
   "cell_type": "markdown",
   "id": "thirty-language",
   "metadata": {},
   "source": [
    "# 4 variable kmap"
   ]
  },
  {
   "cell_type": "code",
   "execution_count": 20,
   "id": "conscious-building",
   "metadata": {},
   "outputs": [
    {
     "name": "stdout",
     "output_type": "stream",
     "text": [
      "AB|CD\n",
      "  0\t0\t0\t0\t\n",
      "  0\t0\t0\t0\t\n",
      "  0\t0\t0\t0\t\n",
      "  0\t0\t0\t0\t\n",
      "AB|CD\n",
      "  0\t1\t1\t0\t\n",
      "  0\t1\t1\t0\t\n",
      "  0\t0\t1\t1\t\n",
      "  0\t0\t1\t0\t\n",
      "AB|CD\n",
      "  0\t1\t3\t2\t\n",
      "  4\t5\t7\t6\t\n",
      "  12\t13\t15\t14\t\n",
      "  8\t9\t11\t10\t\n"
     ]
    }
   ],
   "source": [
    "function = [1,3,5,7, 11, 14, 15]\n",
    "# a b c\n",
    "# 3 variable kmap\n",
    "def create_4_variable_kmap():\n",
    "    kmap = [\n",
    "        [0, 0, 0, 0],\n",
    "        [0, 0, 0, 0],\n",
    "        [0, 0, 0, 0],\n",
    "        [0, 0, 0, 0],\n",
    "    ]\n",
    "    return kmap\n",
    "kmap = create_4_variable_kmap()\n",
    "four_variable_function_to_position_mapping = {\n",
    "    0: [0, 0],\n",
    "    1: [0, 1],\n",
    "    3: [0, 2],\n",
    "    2: [0, 3],\n",
    "    \n",
    "    4: [1, 0],\n",
    "    5: [1, 1],\n",
    "    7: [1, 2],\n",
    "    6: [1, 3],\n",
    "    \n",
    "    8: [3, 0],\n",
    "    9: [3, 1],\n",
    "    11: [3, 2],\n",
    "    10: [3, 3],\n",
    "    \n",
    "    12: [2, 0],\n",
    "    13: [2, 1],\n",
    "    15: [2, 2],\n",
    "    14: [2, 3],\n",
    "}\n",
    "def print_four_variable_kmap(kmap):\n",
    "    print(\"AB|CD\")\n",
    "    for row in kmap:\n",
    "        print('  ', end='')\n",
    "        for col in row:\n",
    "            print(col, end='\\t')\n",
    "        print()\n",
    "print_four_variable_kmap(kmap)\n",
    "\n",
    "for f in function:\n",
    "    position = four_variable_function_to_position_mapping[f]\n",
    "    # print(position)\n",
    "    x, y = position\n",
    "    kmap[x][y] = 1\n",
    "print_four_variable_kmap(kmap)\n",
    "\n",
    "\n",
    "new_kmap = create_4_variable_kmap()\n",
    "for val in range(16):\n",
    "    position = four_variable_function_to_position_mapping[val]\n",
    "    x, y = position\n",
    "    new_kmap[x][y] = val\n",
    "print_four_variable_kmap(new_kmap)"
   ]
  },
  {
   "cell_type": "code",
   "execution_count": null,
   "id": "blank-situation",
   "metadata": {},
   "outputs": [],
   "source": []
  },
  {
   "cell_type": "code",
   "execution_count": null,
   "id": "funky-offering",
   "metadata": {},
   "outputs": [],
   "source": []
  },
  {
   "cell_type": "code",
   "execution_count": 29,
   "id": "offshore-fantasy",
   "metadata": {},
   "outputs": [
    {
     "data": {
      "text/plain": [
       "41400.0"
      ]
     },
     "execution_count": 29,
     "metadata": {},
     "output_type": "execute_result"
    }
   ],
   "source": [
    "23 * 25 / 30 * 180 * 12"
   ]
  },
  {
   "cell_type": "code",
   "execution_count": 30,
   "id": "developmental-furniture",
   "metadata": {},
   "outputs": [
    {
     "data": {
      "text/plain": [
       "29571.428571428572"
      ]
     },
     "execution_count": 30,
     "metadata": {},
     "output_type": "execute_result"
    }
   ],
   "source": [
    "23 * 25 / 42 * 180 * 12"
   ]
  },
  {
   "cell_type": "code",
   "execution_count": null,
   "id": "olympic-schedule",
   "metadata": {},
   "outputs": [],
   "source": []
  }
 ],
 "metadata": {
  "kernelspec": {
   "display_name": "Python 3",
   "language": "python",
   "name": "python3"
  },
  "language_info": {
   "codemirror_mode": {
    "name": "ipython",
    "version": 3
   },
   "file_extension": ".py",
   "mimetype": "text/x-python",
   "name": "python",
   "nbconvert_exporter": "python",
   "pygments_lexer": "ipython3",
   "version": "3.8.10"
  }
 },
 "nbformat": 4,
 "nbformat_minor": 5
}
